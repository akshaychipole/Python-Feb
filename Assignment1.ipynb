{
  "nbformat": 4,
  "nbformat_minor": 0,
  "metadata": {
    "colab": {
      "name": "Untitled0.ipynb",
      "provenance": []
    },
    "kernelspec": {
      "name": "python3",
      "display_name": "Python 3"
    }
  },
  "cells": [
    {
      "cell_type": "code",
      "metadata": {
        "colab": {
          "base_uri": "https://localhost:8080/"
        },
        "id": "AupnwEGnUCzC",
        "outputId": "417fe253-ec0d-4a7d-eeca-01258198bb51"
      },
      "source": [
        "lst = [10,12,22,26,39,25,20,34,56,42] \r\n",
        "lst.append(98)\r\n",
        "print(lst)"
      ],
      "execution_count": 3,
      "outputs": [
        {
          "output_type": "stream",
          "text": [
            "[10, 12, 22, 26, 39, 25, 20, 34, 56, 42, 98]\n"
          ],
          "name": "stdout"
        }
      ]
    },
    {
      "cell_type": "code",
      "metadata": {
        "colab": {
          "base_uri": "https://localhost:8080/"
        },
        "id": "kFs35bAaXAZI",
        "outputId": "3637a358-447c-4b05-cdc3-3f071b41f198"
      },
      "source": [
        "lst = [10,12,22,26,39,25,20,34,56,42] \r\n",
        "lst.reverse()\r\n",
        "print(lst)"
      ],
      "execution_count": 5,
      "outputs": [
        {
          "output_type": "stream",
          "text": [
            "[42, 56, 34, 20, 25, 39, 26, 22, 12, 10]\n"
          ],
          "name": "stdout"
        }
      ]
    },
    {
      "cell_type": "code",
      "metadata": {
        "colab": {
          "base_uri": "https://localhost:8080/"
        },
        "id": "qOwh0R20Xm01",
        "outputId": "0bf47546-9534-4cb0-8833-6fc2001f2575"
      },
      "source": [
        "lst = [10,12,22,26,39,25,20,34,56,42] \r\n",
        "print(len(lst))"
      ],
      "execution_count": 9,
      "outputs": [
        {
          "output_type": "stream",
          "text": [
            "10\n"
          ],
          "name": "stdout"
        }
      ]
    },
    {
      "cell_type": "code",
      "metadata": {
        "colab": {
          "base_uri": "https://localhost:8080/"
        },
        "id": "Jl7fdqFaXN4u",
        "outputId": "5622e172-094b-4ee7-de55-6342c1bf6d84"
      },
      "source": [
        "lst = [10,12,22,26,39,25,10,20,34,56,42] \r\n",
        "print(lst.count(10))"
      ],
      "execution_count": 8,
      "outputs": [
        {
          "output_type": "stream",
          "text": [
            "2\n"
          ],
          "name": "stdout"
        }
      ]
    },
    {
      "cell_type": "code",
      "metadata": {
        "colab": {
          "base_uri": "https://localhost:8080/"
        },
        "id": "rtbqPUuTWyAA",
        "outputId": "e6314c1b-c86e-4b6e-f7f0-7d91bc2970d9"
      },
      "source": [
        "lst = [10,12,22,26,39,25,20,34,56,42] \r\n",
        "lst.remove(10)\r\n",
        "print(lst)"
      ],
      "execution_count": 4,
      "outputs": [
        {
          "output_type": "stream",
          "text": [
            "[12, 22, 26, 39, 25, 20, 34, 56, 42]\n"
          ],
          "name": "stdout"
        }
      ]
    }
  ]
}