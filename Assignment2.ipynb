{
  "nbformat": 4,
  "nbformat_minor": 0,
  "metadata": {
    "colab": {
      "name": "Untitled0.ipynb",
      "provenance": [],
      "authorship_tag": "ABX9TyPg/uKt3knCmYHKWL8caQNe"
    },
    "kernelspec": {
      "name": "python3",
      "display_name": "Python 3"
    }
  },
  "cells": [
    {
      "cell_type": "code",
      "metadata": {
        "colab": {
          "base_uri": "https://localhost:8080/"
        },
        "id": "AupnwEGnUCzC",
        "outputId": "18114c80-fab5-4279-fd15-37c097794c38"
      },
      "source": [
        "Kingdom = {'king':\"shivaji\", \"location\": \"pune\" , \"forts\" : 40} \r\n",
        "Kingdom.items()\r\n"
      ],
      "execution_count": 15,
      "outputs": [
        {
          "output_type": "execute_result",
          "data": {
            "text/plain": [
              "dict_items([('king', 'shivaji'), ('location', 'pune'), ('forts', 40)])"
            ]
          },
          "metadata": {
            "tags": []
          },
          "execution_count": 15
        }
      ]
    },
    {
      "cell_type": "code",
      "metadata": {
        "colab": {
          "base_uri": "https://localhost:8080/"
        },
        "id": "384q0FeAgkDp",
        "outputId": "51c39b90-5e49-4f86-c5b5-cfbc4ffef809"
      },
      "source": [
        "Kingdom = {'king':\"shivaji\", \"location\": \"pune\" , \"forts\" : 40} \r\n",
        "print(len(Kingdom))\r\n"
      ],
      "execution_count": 25,
      "outputs": [
        {
          "output_type": "stream",
          "text": [
            "3\n"
          ],
          "name": "stdout"
        }
      ]
    },
    {
      "cell_type": "code",
      "metadata": {
        "colab": {
          "base_uri": "https://localhost:8080/"
        },
        "id": "j-OHr0T_gaNj",
        "outputId": "10758b5b-9200-4794-de99-46b56df0b270"
      },
      "source": [
        "Kingdom = {'king':\"shivaji\", \"location\": \"pune\" , \"forts\" : 40} \r\n",
        "Kingdom.values()\r\n"
      ],
      "execution_count": 22,
      "outputs": [
        {
          "output_type": "execute_result",
          "data": {
            "text/plain": [
              "dict_values(['shivaji', 'pune', 40])"
            ]
          },
          "metadata": {
            "tags": []
          },
          "execution_count": 22
        }
      ]
    },
    {
      "cell_type": "code",
      "metadata": {
        "id": "hcYCUJCHgGXZ"
      },
      "source": [
        "Kingdom = {'king':\"shivaji\", \"location\": \"pune\" , \"forts\" : 40} \r\n",
        "Kingdom.clear()\r\n"
      ],
      "execution_count": 21,
      "outputs": []
    },
    {
      "cell_type": "code",
      "metadata": {
        "colab": {
          "base_uri": "https://localhost:8080/"
        },
        "id": "CFaWOrYlgBiC",
        "outputId": "e1143fe5-377a-4514-d4c9-f4aa25cc5b44"
      },
      "source": [
        "Kingdom = {'king':\"shivaji\", \"location\": \"pune\" , \"forts\" : 40} \r\n",
        "Kingdom.keys()\r\n"
      ],
      "execution_count": 16,
      "outputs": [
        {
          "output_type": "execute_result",
          "data": {
            "text/plain": [
              "dict_keys(['king', 'location', 'forts'])"
            ]
          },
          "metadata": {
            "tags": []
          },
          "execution_count": 16
        }
      ]
    }
  ]
}