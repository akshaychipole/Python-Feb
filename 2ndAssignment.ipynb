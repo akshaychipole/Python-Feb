{
  "nbformat": 4,
  "nbformat_minor": 0,
  "metadata": {
    "colab": {
      "name": "Untitled0.ipynb",
      "provenance": [],
      "authorship_tag": "ABX9TyO41xDD5SuOHULVPOvYzdos",
      "include_colab_link": true
    },
    "kernelspec": {
      "name": "python3",
      "display_name": "Python 3"
    }
  },
  "cells": [
    {
      "cell_type": "markdown",
      "metadata": {
        "id": "view-in-github",
        "colab_type": "text"
      },
      "source": [
        "<a href=\"https://colab.research.google.com/github/akshaychipole/Python-Feb/blob/main/2ndAssignment.ipynb\" target=\"_parent\"><img src=\"https://colab.research.google.com/assets/colab-badge.svg\" alt=\"Open In Colab\"/></a>"
      ]
    },
    {
      "cell_type": "code",
      "metadata": {
        "id": "BLwi0QPJvsKx"
      },
      "source": [
        "x = input(\"Enter height: \")\r\n",
        "altitude = int(x)\r\n",
        "while True:\r\n",
        "    if altitude == 1000:\r\n",
        "        print('Safe to land now')\r\n",
        "   elif (altitude < 5000) && (altitude > 1000):\r\n",
        "        print('Bring the plane down')\r\n",
        "      elif altitude < 5000:\r\n",
        "        print(\"Go back and try again\")\r\n",
        "    break;\r\n",
        "  "
      ],
      "execution_count": null,
      "outputs": []
    }
  ]
}